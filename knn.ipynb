{
 "cells": [
  {
   "cell_type": "code",
   "execution_count": null,
   "metadata": {},
   "outputs": [],
   "source": [
    "#! /usr/bin/env python\n",
    "# -*- coding:utf-8 -*-\n",
    "\n",
    "\"\"\"\n",
    "k-NearestNeighbor\n",
    "k近临算法的python实现\n",
    "\"\"\"\n",
    "\n",
    "import numpy as np\n",
    "\n",
    "\n",
    "def classify(X, DATASET, LABELS, K):\n",
    "    # 大写参数表示常量，不可改变\n",
    "    distances = np.sqrt(np.sum(np.square(DATASET - X), axis=1))\n",
    "    # 计算距离矩阵\n",
    "    len_dis = len(distances)\n",
    "    # 得到distances数目\n",
    "    labels = []\n",
    "    # 存储标签\n",
    "    for i in range(0, K):\n",
    "        min_value = distances[i]\n",
    "        min_value_idx = i\n",
    "        for j in range(i + 1, len_dis):\n",
    "            if distances[j] < min_value:\n",
    "                min_value = distances[j]\n",
    "                min_value_idx = j\n",
    "        distances[i], distances[min_value_idx] = distances[min_value_idx], distances[i]\n",
    "        labels.append(LABELS[min_value_idx])\n",
    "    # 选择排序挑选出前k个最值\n",
    "    # 用labels存储前k个最小距离的标签\n",
    "    C = labels[0]\n",
    "    max_count = 0\n",
    "    for label in labels:\n",
    "        count = labels.count(label)\n",
    "        if count > max_count:\n",
    "            max_count = count\n",
    "            C = label\n",
    "    # 求前k个label中，重复次数最多的label，并返回\n",
    "    return C"
   ]
  },
  {
   "cell_type": "code",
   "execution_count": null,
   "metadata": {},
   "outputs": [],
   "source": []
  }
 ],
 "metadata": {
  "kernelspec": {
   "display_name": "Python 3",
   "language": "python",
   "name": "python3"
  },
  "language_info": {
   "codemirror_mode": {
    "name": "ipython",
    "version": 3
   },
   "file_extension": ".py",
   "mimetype": "text/x-python",
   "name": "python",
   "nbconvert_exporter": "python",
   "pygments_lexer": "ipython3",
   "version": "3.6.4"
  }
 },
 "nbformat": 4,
 "nbformat_minor": 2
}
